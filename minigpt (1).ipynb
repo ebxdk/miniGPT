{
  "nbformat": 4,
  "nbformat_minor": 0,
  "metadata": {
    "colab": {
      "provenance": [],
      "machine_shape": "hm",
      "gpuType": "T4"
    },
    "kernelspec": {
      "name": "python3",
      "display_name": "Python 3"
    },
    "language_info": {
      "name": "python"
    },
    "accelerator": "GPU"
  },
  "cells": [
    {
      "cell_type": "code",
      "execution_count": 71,
      "metadata": {
        "colab": {
          "base_uri": "https://localhost:8080/"
        },
        "id": "h5hjCcLDr2WC",
        "outputId": "2982632c-5c56-46e9-bedb-4f9b6af17103"
      },
      "outputs": [
        {
          "output_type": "stream",
          "name": "stdout",
          "text": [
            "--2024-02-25 21:48:32--  https://raw.githubusercontent.com/ebxdk/textfile/main/input2.txt\n",
            "Resolving raw.githubusercontent.com (raw.githubusercontent.com)... 185.199.108.133, 185.199.110.133, 185.199.111.133, ...\n",
            "Connecting to raw.githubusercontent.com (raw.githubusercontent.com)|185.199.108.133|:443... connected.\n",
            "HTTP request sent, awaiting response... 200 OK\n",
            "Length: 2091 (2.0K) [text/plain]\n",
            "Saving to: ‘input2.txt.2’\n",
            "\n",
            "\rinput2.txt.2          0%[                    ]       0  --.-KB/s               \rinput2.txt.2        100%[===================>]   2.04K  --.-KB/s    in 0s      \n",
            "\n",
            "2024-02-25 21:48:32 (19.1 MB/s) - ‘input2.txt.2’ saved [2091/2091]\n",
            "\n"
          ]
        }
      ],
      "source": [
        "# We always start with a dataset to train on. Let's download the tiny shakespeare dataset\n",
        "!wget https://raw.githubusercontent.com/ebxdk/textfile/main/input2.txt"
      ]
    },
    {
      "cell_type": "code",
      "source": [
        "# read it in to inspect it\n",
        "with open('input2.txt', 'r', encoding='utf-8') as f:\n",
        "    text = f.read()"
      ],
      "metadata": {
        "id": "O6medjfRsLD9"
      },
      "execution_count": 72,
      "outputs": []
    },
    {
      "cell_type": "code",
      "source": [
        "print(\"length of dataset in characters: \", len(text))"
      ],
      "metadata": {
        "colab": {
          "base_uri": "https://localhost:8080/"
        },
        "id": "6xWI_VyAsN8F",
        "outputId": "1a332b91-e70f-4ce8-e0b9-0ffeb1e01704"
      },
      "execution_count": 73,
      "outputs": [
        {
          "output_type": "stream",
          "name": "stdout",
          "text": [
            "length of dataset in characters:  2087\n"
          ]
        }
      ]
    },
    {
      "cell_type": "code",
      "source": [
        "# let's look at the first 1000 characters\n",
        "print(text[:1000])"
      ],
      "metadata": {
        "colab": {
          "base_uri": "https://localhost:8080/"
        },
        "id": "2c5V0FvqseE0",
        "outputId": "2ca593ee-19a5-4627-b30d-de9880bea8dc"
      },
      "execution_count": 74,
      "outputs": [
        {
          "output_type": "stream",
          "name": "stdout",
          "text": [
            "The rapid development of abnormal brain cells that characterizes a brain tumor is a major health risk for adults since it can cause severe impairment of organ function and even death. These tumors come in a wide variety of sizes, textures, and locations. When trying to locate cancerous tumors, magnetic resonance imaging (MRI) is a crucial tool. However, detecting brain tumors manually is a difficult and time-consuming activity that might lead to inaccuracies. In order to solve this, we provide a refined You Only Look Once version 7 (YOLOv7) model for the accurate detection of meningioma, glioma, and pituitary gland tumors within an improved detection of brain tumors system. The visual representation of the MRI scans is enhanced by the use of image enhancement methods that apply different filters to the original pictures. To further improve the training of our proposed model, we apply data augmentation techniques to the openly accessible brain tumor dataset. The curated data include a w\n"
          ]
        }
      ]
    },
    {
      "cell_type": "code",
      "source": [
        "# here are all the unique characters that occur in this text\n",
        "chars = sorted(list(set(text)))\n",
        "vocab_size = len(chars)\n",
        "print(''.join(chars))\n",
        "print(vocab_size)"
      ],
      "metadata": {
        "colab": {
          "base_uri": "https://localhost:8080/"
        },
        "id": "0e-Rbyr8sfM8",
        "outputId": "47ca5618-6b7a-455d-9ebd-bb67e01bbc31"
      },
      "execution_count": 75,
      "outputs": [
        {
          "output_type": "stream",
          "name": "stdout",
          "text": [
            "\n",
            " ()+,-.0245678ABCFHILMNOPRSTWYabcdefghijklmnopqrstuvwxyz’\n",
            "58\n"
          ]
        }
      ]
    },
    {
      "cell_type": "code",
      "source": [
        "# create a mapping from characters to integers\n",
        "stoi = { ch:i for i,ch in enumerate(chars) }\n",
        "itos = { i:ch for i,ch in enumerate(chars) }\n",
        "encode = lambda s: [stoi[c] for c in s] # encoder: take a string, output a list of integers\n",
        "decode = lambda l: ''.join([itos[i] for i in l]) # decoder: take a list of integers, output a string\n",
        "\n",
        "print(encode(\"hii there\"))\n",
        "print(decode(encode(\"hii there\")))"
      ],
      "metadata": {
        "colab": {
          "base_uri": "https://localhost:8080/"
        },
        "id": "Yw1LKNCgwjj1",
        "outputId": "27fb8d6f-5cec-44fe-9072-e9663b1c09df"
      },
      "execution_count": 76,
      "outputs": [
        {
          "output_type": "stream",
          "name": "stdout",
          "text": [
            "[38, 39, 39, 1, 50, 38, 35, 48, 35]\n",
            "hii there\n"
          ]
        }
      ]
    },
    {
      "cell_type": "code",
      "source": [
        "# let's now encode the entire text dataset and store it into a torch.Tensor\n",
        "import torch # we use PyTorch: https://pytorch.org\n",
        "data = torch.tensor(encode(text), dtype=torch.long)\n",
        "print(data.shape, data.dtype)\n",
        "print(data[:1000]) # the 1000 characters we looked at earier will to the GPT look like this"
      ],
      "metadata": {
        "colab": {
          "base_uri": "https://localhost:8080/"
        },
        "id": "YJb0OXPwzvqg",
        "outputId": "167edf7e-71c2-4112-ec31-599caabd31c0"
      },
      "execution_count": 77,
      "outputs": [
        {
          "output_type": "stream",
          "name": "stdout",
          "text": [
            "torch.Size([2087]) torch.int64\n",
            "tensor([28, 38, 35,  1, 48, 31, 46, 39, 34,  1, 34, 35, 52, 35, 42, 45, 46, 43,\n",
            "        35, 44, 50,  1, 45, 36,  1, 31, 32, 44, 45, 48, 43, 31, 42,  1, 32, 48,\n",
            "        31, 39, 44,  1, 33, 35, 42, 42, 49,  1, 50, 38, 31, 50,  1, 33, 38, 31,\n",
            "        48, 31, 33, 50, 35, 48, 39, 56, 35, 49,  1, 31,  1, 32, 48, 31, 39, 44,\n",
            "         1, 50, 51, 43, 45, 48,  1, 39, 49,  1, 31,  1, 43, 31, 40, 45, 48,  1,\n",
            "        38, 35, 31, 42, 50, 38,  1, 48, 39, 49, 41,  1, 36, 45, 48,  1, 31, 34,\n",
            "        51, 42, 50, 49,  1, 49, 39, 44, 33, 35,  1, 39, 50,  1, 33, 31, 44,  1,\n",
            "        33, 31, 51, 49, 35,  1, 49, 35, 52, 35, 48, 35,  1, 39, 43, 46, 31, 39,\n",
            "        48, 43, 35, 44, 50,  1, 45, 36,  1, 45, 48, 37, 31, 44,  1, 36, 51, 44,\n",
            "        33, 50, 39, 45, 44,  1, 31, 44, 34,  1, 35, 52, 35, 44,  1, 34, 35, 31,\n",
            "        50, 38,  7,  1, 28, 38, 35, 49, 35,  1, 50, 51, 43, 45, 48, 49,  1, 33,\n",
            "        45, 43, 35,  1, 39, 44,  1, 31,  1, 53, 39, 34, 35,  1, 52, 31, 48, 39,\n",
            "        35, 50, 55,  1, 45, 36,  1, 49, 39, 56, 35, 49,  5,  1, 50, 35, 54, 50,\n",
            "        51, 48, 35, 49,  5,  1, 31, 44, 34,  1, 42, 45, 33, 31, 50, 39, 45, 44,\n",
            "        49,  7,  1, 29, 38, 35, 44,  1, 50, 48, 55, 39, 44, 37,  1, 50, 45,  1,\n",
            "        42, 45, 33, 31, 50, 35,  1, 33, 31, 44, 33, 35, 48, 45, 51, 49,  1, 50,\n",
            "        51, 43, 45, 48, 49,  5,  1, 43, 31, 37, 44, 35, 50, 39, 33,  1, 48, 35,\n",
            "        49, 45, 44, 31, 44, 33, 35,  1, 39, 43, 31, 37, 39, 44, 37,  1,  2, 22,\n",
            "        26, 20,  3,  1, 39, 49,  1, 31,  1, 33, 48, 51, 33, 39, 31, 42,  1, 50,\n",
            "        45, 45, 42,  7,  1, 19, 45, 53, 35, 52, 35, 48,  5,  1, 34, 35, 50, 35,\n",
            "        33, 50, 39, 44, 37,  1, 32, 48, 31, 39, 44,  1, 50, 51, 43, 45, 48, 49,\n",
            "         1, 43, 31, 44, 51, 31, 42, 42, 55,  1, 39, 49,  1, 31,  1, 34, 39, 36,\n",
            "        36, 39, 33, 51, 42, 50,  1, 31, 44, 34,  1, 50, 39, 43, 35,  6, 33, 45,\n",
            "        44, 49, 51, 43, 39, 44, 37,  1, 31, 33, 50, 39, 52, 39, 50, 55,  1, 50,\n",
            "        38, 31, 50,  1, 43, 39, 37, 38, 50,  1, 42, 35, 31, 34,  1, 50, 45,  1,\n",
            "        39, 44, 31, 33, 33, 51, 48, 31, 33, 39, 35, 49,  7,  1, 20, 44,  1, 45,\n",
            "        48, 34, 35, 48,  1, 50, 45,  1, 49, 45, 42, 52, 35,  1, 50, 38, 39, 49,\n",
            "         5,  1, 53, 35,  1, 46, 48, 45, 52, 39, 34, 35,  1, 31,  1, 48, 35, 36,\n",
            "        39, 44, 35, 34,  1, 30, 45, 51,  1, 24, 44, 42, 55,  1, 21, 45, 45, 41,\n",
            "         1, 24, 44, 33, 35,  1, 52, 35, 48, 49, 39, 45, 44,  1, 13,  1,  2, 30,\n",
            "        24, 21, 24, 52, 13,  3,  1, 43, 45, 34, 35, 42,  1, 36, 45, 48,  1, 50,\n",
            "        38, 35,  1, 31, 33, 33, 51, 48, 31, 50, 35,  1, 34, 35, 50, 35, 33, 50,\n",
            "        39, 45, 44,  1, 45, 36,  1, 43, 35, 44, 39, 44, 37, 39, 45, 43, 31,  5,\n",
            "         1, 37, 42, 39, 45, 43, 31,  5,  1, 31, 44, 34,  1, 46, 39, 50, 51, 39,\n",
            "        50, 31, 48, 55,  1, 37, 42, 31, 44, 34,  1, 50, 51, 43, 45, 48, 49,  1,\n",
            "        53, 39, 50, 38, 39, 44,  1, 31, 44,  1, 39, 43, 46, 48, 45, 52, 35, 34,\n",
            "         1, 34, 35, 50, 35, 33, 50, 39, 45, 44,  1, 45, 36,  1, 32, 48, 31, 39,\n",
            "        44,  1, 50, 51, 43, 45, 48, 49,  1, 49, 55, 49, 50, 35, 43,  7,  1, 28,\n",
            "        38, 35,  1, 52, 39, 49, 51, 31, 42,  1, 48, 35, 46, 48, 35, 49, 35, 44,\n",
            "        50, 31, 50, 39, 45, 44,  1, 45, 36,  1, 50, 38, 35,  1, 22, 26, 20,  1,\n",
            "        49, 33, 31, 44, 49,  1, 39, 49,  1, 35, 44, 38, 31, 44, 33, 35, 34,  1,\n",
            "        32, 55,  1, 50, 38, 35,  1, 51, 49, 35,  1, 45, 36,  1, 39, 43, 31, 37,\n",
            "        35,  1, 35, 44, 38, 31, 44, 33, 35, 43, 35, 44, 50,  1, 43, 35, 50, 38,\n",
            "        45, 34, 49,  1, 50, 38, 31, 50,  1, 31, 46, 46, 42, 55,  1, 34, 39, 36,\n",
            "        36, 35, 48, 35, 44, 50,  1, 36, 39, 42, 50, 35, 48, 49,  1, 50, 45,  1,\n",
            "        50, 38, 35,  1, 45, 48, 39, 37, 39, 44, 31, 42,  1, 46, 39, 33, 50, 51,\n",
            "        48, 35, 49,  7,  1, 28, 45,  1, 36, 51, 48, 50, 38, 35, 48,  1, 39, 43,\n",
            "        46, 48, 45, 52, 35,  1, 50, 38, 35,  1, 50, 48, 31, 39, 44, 39, 44, 37,\n",
            "         1, 45, 36,  1, 45, 51, 48,  1, 46, 48, 45, 46, 45, 49, 35, 34,  1, 43,\n",
            "        45, 34, 35, 42,  5,  1, 53, 35,  1, 31, 46, 46, 42, 55,  1, 34, 31, 50,\n",
            "        31,  1, 31, 51, 37, 43, 35, 44, 50, 31, 50, 39, 45, 44,  1, 50, 35, 33,\n",
            "        38, 44, 39, 47, 51, 35, 49,  1, 50, 45,  1, 50, 38, 35,  1, 45, 46, 35,\n",
            "        44, 42, 55,  1, 31, 33, 33, 35, 49, 49, 39, 32, 42, 35,  1, 32, 48, 31,\n",
            "        39, 44,  1, 50, 51, 43, 45, 48,  1, 34, 31, 50, 31, 49, 35, 50,  7,  1,\n",
            "        28, 38, 35,  1, 33, 51, 48, 31, 50, 35, 34,  1, 34, 31, 50, 31,  1, 39,\n",
            "        44, 33, 42, 51, 34, 35,  1, 31,  1, 53])\n"
          ]
        }
      ]
    },
    {
      "cell_type": "code",
      "source": [
        "# Let's now split up the data into train and validation sets\n",
        "n = int(0.9*len(data)) # first 90% will be train, rest val\n",
        "train_data = data[:n]\n",
        "val_data = data[n:]"
      ],
      "metadata": {
        "id": "f_WIXqxz0lU5"
      },
      "execution_count": 78,
      "outputs": []
    },
    {
      "cell_type": "code",
      "source": [
        "block_size = 8\n",
        "train_data[:block_size+1]"
      ],
      "metadata": {
        "colab": {
          "base_uri": "https://localhost:8080/"
        },
        "id": "TD5Bj8Y6IAD4",
        "outputId": "1a7d598f-f9ea-4a18-b2a9-d598f63d2459"
      },
      "execution_count": 79,
      "outputs": [
        {
          "output_type": "execute_result",
          "data": {
            "text/plain": [
              "tensor([28, 38, 35,  1, 48, 31, 46, 39, 34])"
            ]
          },
          "metadata": {},
          "execution_count": 79
        }
      ]
    },
    {
      "cell_type": "code",
      "source": [
        "x = train_data[:block_size]\n",
        "y = train_data[1:block_size+1]\n",
        "for t in range(block_size):\n",
        "    context = x[:t+1]\n",
        "    target = y[t]\n",
        "    print(f\"when input is {context} the target: {target}\")"
      ],
      "metadata": {
        "colab": {
          "base_uri": "https://localhost:8080/"
        },
        "id": "9HXDe8vGJCEn",
        "outputId": "f600ff05-52e4-4b1b-dee7-9b0227619584"
      },
      "execution_count": 80,
      "outputs": [
        {
          "output_type": "stream",
          "name": "stdout",
          "text": [
            "when input is tensor([28]) the target: 38\n",
            "when input is tensor([28, 38]) the target: 35\n",
            "when input is tensor([28, 38, 35]) the target: 1\n",
            "when input is tensor([28, 38, 35,  1]) the target: 48\n",
            "when input is tensor([28, 38, 35,  1, 48]) the target: 31\n",
            "when input is tensor([28, 38, 35,  1, 48, 31]) the target: 46\n",
            "when input is tensor([28, 38, 35,  1, 48, 31, 46]) the target: 39\n",
            "when input is tensor([28, 38, 35,  1, 48, 31, 46, 39]) the target: 34\n"
          ]
        }
      ]
    },
    {
      "cell_type": "code",
      "source": [
        "torch.manual_seed(1337)\n",
        "batch_size = 4 # how many independent sequences will we process in parallel?\n",
        "block_size = 8 # what is the maximum context length for predictions?\n",
        "\n",
        "def get_batch(split):\n",
        "    # generate a small batch of data of inputs x and targets y\n",
        "    data = train_data if split == 'train' else val_data\n",
        "    ix = torch.randint(len(data) - block_size, (batch_size,))\n",
        "    x = torch.stack([data[i:i+block_size] for i in ix])\n",
        "    y = torch.stack([data[i+1:i+block_size+1] for i in ix])\n",
        "    return x, y\n",
        "\n",
        "xb, yb = get_batch('train')\n",
        "print('inputs:')\n",
        "print(xb.shape)\n",
        "print(xb)\n",
        "print('targets:')\n",
        "print(yb.shape)\n",
        "print(yb)\n",
        "\n",
        "print('----')\n",
        "\n",
        "for b in range(batch_size): # batch dimension\n",
        "    for t in range(block_size): # time dimension\n",
        "        context = xb[b, :t+1]\n",
        "        target = yb[b,t]\n",
        "        print(f\"when input is {context.tolist()} the target: {target}\")"
      ],
      "metadata": {
        "colab": {
          "base_uri": "https://localhost:8080/"
        },
        "id": "Q3k1Czf7LuA9",
        "outputId": "14c70798-460a-40e2-d473-250c5e0e5195"
      },
      "execution_count": 81,
      "outputs": [
        {
          "output_type": "stream",
          "name": "stdout",
          "text": [
            "inputs:\n",
            "torch.Size([4, 8])\n",
            "tensor([[43, 46, 48, 45, 52, 35,  1, 50],\n",
            "        [35, 44,  1, 50, 48, 55, 39, 44],\n",
            "        [31, 33, 50, 39, 52, 39, 50, 55],\n",
            "        [18, 31, 49, 50,  4,  1,  2, 27]])\n",
            "targets:\n",
            "torch.Size([4, 8])\n",
            "tensor([[46, 48, 45, 52, 35,  1, 50, 38],\n",
            "        [44,  1, 50, 48, 55, 39, 44, 37],\n",
            "        [33, 50, 39, 52, 39, 50, 55,  1],\n",
            "        [31, 49, 50,  4,  1,  2, 27, 25]])\n",
            "----\n",
            "when input is [43] the target: 46\n",
            "when input is [43, 46] the target: 48\n",
            "when input is [43, 46, 48] the target: 45\n",
            "when input is [43, 46, 48, 45] the target: 52\n",
            "when input is [43, 46, 48, 45, 52] the target: 35\n",
            "when input is [43, 46, 48, 45, 52, 35] the target: 1\n",
            "when input is [43, 46, 48, 45, 52, 35, 1] the target: 50\n",
            "when input is [43, 46, 48, 45, 52, 35, 1, 50] the target: 38\n",
            "when input is [35] the target: 44\n",
            "when input is [35, 44] the target: 1\n",
            "when input is [35, 44, 1] the target: 50\n",
            "when input is [35, 44, 1, 50] the target: 48\n",
            "when input is [35, 44, 1, 50, 48] the target: 55\n",
            "when input is [35, 44, 1, 50, 48, 55] the target: 39\n",
            "when input is [35, 44, 1, 50, 48, 55, 39] the target: 44\n",
            "when input is [35, 44, 1, 50, 48, 55, 39, 44] the target: 37\n",
            "when input is [31] the target: 33\n",
            "when input is [31, 33] the target: 50\n",
            "when input is [31, 33, 50] the target: 39\n",
            "when input is [31, 33, 50, 39] the target: 52\n",
            "when input is [31, 33, 50, 39, 52] the target: 39\n",
            "when input is [31, 33, 50, 39, 52, 39] the target: 50\n",
            "when input is [31, 33, 50, 39, 52, 39, 50] the target: 55\n",
            "when input is [31, 33, 50, 39, 52, 39, 50, 55] the target: 1\n",
            "when input is [18] the target: 31\n",
            "when input is [18, 31] the target: 49\n",
            "when input is [18, 31, 49] the target: 50\n",
            "when input is [18, 31, 49, 50] the target: 4\n",
            "when input is [18, 31, 49, 50, 4] the target: 1\n",
            "when input is [18, 31, 49, 50, 4, 1] the target: 2\n",
            "when input is [18, 31, 49, 50, 4, 1, 2] the target: 27\n",
            "when input is [18, 31, 49, 50, 4, 1, 2, 27] the target: 25\n"
          ]
        }
      ]
    },
    {
      "cell_type": "code",
      "source": [
        "print(xb) # our input to the transformer"
      ],
      "metadata": {
        "colab": {
          "base_uri": "https://localhost:8080/"
        },
        "id": "qpyyAeIzQjlO",
        "outputId": "51766917-d48d-4a43-f04a-a5bc52400c92"
      },
      "execution_count": 82,
      "outputs": [
        {
          "output_type": "stream",
          "name": "stdout",
          "text": [
            "tensor([[43, 46, 48, 45, 52, 35,  1, 50],\n",
            "        [35, 44,  1, 50, 48, 55, 39, 44],\n",
            "        [31, 33, 50, 39, 52, 39, 50, 55],\n",
            "        [18, 31, 49, 50,  4,  1,  2, 27]])\n"
          ]
        }
      ]
    },
    {
      "cell_type": "code",
      "source": [
        "import torch\n",
        "import torch.nn as nn\n",
        "from torch.nn import functional as F\n",
        "\n",
        "torch.manual_seed(1337)\n",
        "\n",
        "# Function to decode the output tensor into text\n",
        "def decode_output(output_tensor):\n",
        "    decoded_text = ''.join([itos[i] for i in output_tensor])\n",
        "    decoded_text = decoded_text.replace('<', '').replace('>', '')  # Remove special tokens\n",
        "    decoded_text = decoded_text.replace('  ', ' ')  # Remove extra spaces\n",
        "    decoded_text = decoded_text.replace('\\n ', '\\n')  # Remove leading space after newline\n",
        "    return decoded_text\n",
        "\n",
        "class BigramLanguageModel(nn.Module):\n",
        "\n",
        "    def __init__(self, vocab_size):\n",
        "        super().__init__()\n",
        "        # each token directly reads off the logits for the next token from a lookup table\n",
        "        self.token_embedding_table = nn.Embedding(vocab_size, vocab_size)\n",
        "\n",
        "    def forward(self, idx, targets=None):\n",
        "        # idx and targets are both (B,T) tensor of integers\n",
        "        logits = self.token_embedding_table(idx) # (B,T,C)\n",
        "\n",
        "        if targets is None:\n",
        "            loss = None\n",
        "        else:\n",
        "            B, T, C = logits.shape\n",
        "            logits = logits.view(B*T, C)\n",
        "            targets = targets.view(B*T)\n",
        "            loss = F.cross_entropy(logits, targets)\n",
        "\n",
        "        return logits, loss\n",
        "\n",
        "    def generate(self, idx, max_new_tokens):\n",
        "        # idx is (B, T) array of indices in the current context\n",
        "        for _ in range(max_new_tokens):\n",
        "            # get the predictions\n",
        "            logits, loss = self(idx)\n",
        "            # focus only on the last time step\n",
        "            logits = logits[:, -1, :] # becomes (B, C)\n",
        "            # apply softmax to get probabilities\n",
        "            probs = F.softmax(logits, dim=-1) # (B, C)\n",
        "            # sample from the distribution\n",
        "            idx_next = torch.multinomial(probs, num_samples=1) # (B, 1)\n",
        "            # append sampled index to the running sequence\n",
        "            idx = torch.cat((idx, idx_next), dim=1) # (B, T+1)\n",
        "        return idx\n",
        "\n",
        "m = BigramLanguageModel(vocab_size)\n",
        "logits, loss = m(xb, yb)\n",
        "print(logits.shape)\n",
        "print(loss)\n",
        "\n",
        "generated_text = decode_output(m.generate(idx=torch.zeros((1, 1), dtype=torch.long), max_new_tokens=100)[0].tolist())\n",
        "\n",
        "# Add proper punctuation and formatting\n",
        "generated_text = generated_text.replace('<START>', '').replace('<END>', '')  # Remove start and end tokens\n",
        "generated_text = generated_text.replace(' .', '.').replace(' ,', ',')  # Fix spacing before punctuation\n",
        "generated_text = generated_text.replace('\\n ', '\\n\\n')  # Add double newline for paragraphs\n",
        "\n",
        "print(generated_text)\n"
      ],
      "metadata": {
        "colab": {
          "base_uri": "https://localhost:8080/"
        },
        "id": "nql_1ER53oCf",
        "outputId": "afedbcc3-35fa-47a1-bc64-1f2508056ce6"
      },
      "execution_count": 83,
      "outputs": [
        {
          "output_type": "stream",
          "name": "stdout",
          "text": [
            "torch.Size([32, 58])\n",
            "tensor(4.5416, grad_fn=<NllLossBackward0>)\n",
            "\n",
            "Yy)BRhe7-tRk2HNkWvaN5Li.5L7-’-M)’4NFc)dIkrBsl8j+kc+sb64(qtzqyBu)q6favL.a+nF5hu+TLwn5S8pkFrzjlwlYkl()\n"
          ]
        }
      ]
    },
    {
      "cell_type": "code",
      "source": [
        "# create a PyTorch optimizer\n",
        "optimizer = torch.optim.AdamW(m.parameters(), lr=1e-3)"
      ],
      "metadata": {
        "id": "eTyJ8qAaDdiF"
      },
      "execution_count": 84,
      "outputs": []
    },
    {
      "cell_type": "code",
      "source": [
        "batch_size = 32\n",
        "for steps in range(100): # increase number of steps for good results...\n",
        "\n",
        "    # sample a batch of data\n",
        "    xb, yb = get_batch('train')\n",
        "\n",
        "    # evaluate the loss\n",
        "    logits, loss = m(xb, yb)\n",
        "    optimizer.zero_grad(set_to_none=True)\n",
        "    loss.backward()\n",
        "    optimizer.step()\n",
        "\n",
        "print(loss.item())\n"
      ],
      "metadata": {
        "colab": {
          "base_uri": "https://localhost:8080/"
        },
        "id": "Hs4kI8YdEkQj",
        "outputId": "0efb7903-53ff-4053-822e-2b4cf24b6170"
      },
      "execution_count": 85,
      "outputs": [
        {
          "output_type": "stream",
          "name": "stdout",
          "text": [
            "4.651298999786377\n"
          ]
        }
      ]
    },
    {
      "cell_type": "code",
      "source": [
        "print(decode(m.generate(idx = torch.zeros((1, 1), dtype=torch.long), max_new_tokens=500)[0].tolist()))"
      ],
      "metadata": {
        "colab": {
          "base_uri": "https://localhost:8080/"
        },
        "id": "EcVIDWAZEtjN",
        "outputId": "fb26bcb5-c164-4f30-a768-0ae2ec667149"
      },
      "execution_count": 86,
      "outputs": [
        {
          "output_type": "stream",
          "name": "stdout",
          "text": [
            "\n",
            "mitjYBalfbqm.8(euyi6rzklCCNhC6tjdusftj7otABr’uyt+I7w+ckeOPr’OT5SA0ne+SA8syLi+06yT7hxkW4kv0TIaNLr’iap0sn54gfNz t+olfbx4Li6baOjgg,W\n",
            "BPFywLle.8’I8Lq46\n",
            "jz-M)6Aq24f2f(Ts-(WbuxtlaCHAW4dTheul+’(Cef2wLw.FbjSS2p0sz’.mmxu2,ce7wcLsYvasrNsMTBe.h4f(.Ava,FFyw M62txiok(Svax5RCa,cfB,Yjpr0\n",
            "YI7qe06)l8YzqAB00a5SLnna+zx5’Y6ban(+nfLlA04fMM.,c\n",
            " eg’.Aw’YPA0m4syMR.anjjtp(Tgv,Yfv\n",
            "aTy)5xtFh\n",
            "Yaw7Ln)yuR u)TNfM.d’+,Nc5SLw.aOT6eyyTi.u+aNifu)hCNeut4NTkY’+0vhhWLik.OABe+pL,oPhCuMd8mi7milf(,adcyl+jqu)R6Yptv6Y2mf6lec5S2uA\n",
            "B8TsYNw\n"
          ]
        }
      ]
    },
    {
      "cell_type": "markdown",
      "source": [
        "## The mathematical trick in self-attention"
      ],
      "metadata": {
        "id": "XinV8nmAnmKN"
      }
    },
    {
      "cell_type": "code",
      "source": [
        "# toy example illustrating how matrix multiplication can be used for a \"weighted aggregation\"\n",
        "torch.manual_seed(42)\n",
        "a = torch.tril(torch.ones(3, 3))\n",
        "a = a / torch.sum(a, 1, keepdim=True)\n",
        "b = torch.randint(0,10,(3,2)).float()\n",
        "c = a @ b\n",
        "print('a=')\n",
        "print(a)\n",
        "print('--')\n",
        "print('b=')\n",
        "print(b)\n",
        "print('--')\n",
        "print('c=')\n",
        "print(c)"
      ],
      "metadata": {
        "colab": {
          "base_uri": "https://localhost:8080/"
        },
        "id": "tukiH-NbRBhA",
        "outputId": "97c5c60d-f03b-42fe-a6ef-9eb991f0a194"
      },
      "execution_count": 87,
      "outputs": [
        {
          "output_type": "stream",
          "name": "stdout",
          "text": [
            "a=\n",
            "tensor([[1.0000, 0.0000, 0.0000],\n",
            "        [0.5000, 0.5000, 0.0000],\n",
            "        [0.3333, 0.3333, 0.3333]])\n",
            "--\n",
            "b=\n",
            "tensor([[2., 7.],\n",
            "        [6., 4.],\n",
            "        [6., 5.]])\n",
            "--\n",
            "c=\n",
            "tensor([[2.0000, 7.0000],\n",
            "        [4.0000, 5.5000],\n",
            "        [4.6667, 5.3333]])\n"
          ]
        }
      ]
    },
    {
      "cell_type": "code",
      "source": [
        "# consider the following toy example:\n",
        "\n",
        "torch.manual_seed(1337)\n",
        "B,T,C = 4,8,2 # batch, time, channels\n",
        "x = torch.randn(B,T,C)\n",
        "x.shape"
      ],
      "metadata": {
        "colab": {
          "base_uri": "https://localhost:8080/"
        },
        "id": "Hs_E24uRE8kr",
        "outputId": "506b4574-d233-43aa-e446-89e30335f808"
      },
      "execution_count": 88,
      "outputs": [
        {
          "output_type": "execute_result",
          "data": {
            "text/plain": [
              "torch.Size([4, 8, 2])"
            ]
          },
          "metadata": {},
          "execution_count": 88
        }
      ]
    },
    {
      "cell_type": "code",
      "source": [
        "# We want x[b,t] = mean_{i<=t} x[b,i]\n",
        "xbow = torch.zeros((B,T,C))\n",
        "for b in range(B):\n",
        "    for t in range(T):\n",
        "        xprev = x[b,:t+1] # (t,C)\n",
        "        xbow[b,t] = torch.mean(xprev, 0)\n"
      ],
      "metadata": {
        "id": "86NuXX0fn7ps"
      },
      "execution_count": 89,
      "outputs": []
    },
    {
      "cell_type": "code",
      "source": [
        "# version 2: using matrix multiply for a weighted aggregation\n",
        "wei = torch.tril(torch.ones(T, T))\n",
        "wei = wei / wei.sum(1, keepdim=True)\n",
        "xbow2 = wei @ x # (B, T, T) @ (B, T, C) ----> (B, T, C)\n",
        "torch.allclose(xbow, xbow2)"
      ],
      "metadata": {
        "colab": {
          "base_uri": "https://localhost:8080/"
        },
        "id": "yhdOAd6-wXkZ",
        "outputId": "a44f2286-ebfa-449b-d846-8e5a2703a947"
      },
      "execution_count": 90,
      "outputs": [
        {
          "output_type": "execute_result",
          "data": {
            "text/plain": [
              "False"
            ]
          },
          "metadata": {},
          "execution_count": 90
        }
      ]
    },
    {
      "cell_type": "code",
      "source": [
        "# version 3: use Softmax\n",
        "tril = torch.tril(torch.ones(T, T))\n",
        "wei = torch.zeros((T,T))\n",
        "wei = wei.masked_fill(tril == 0, float('-inf'))\n",
        "wei = F.softmax(wei, dim=-1)\n",
        "xbow3 = wei @ x\n",
        "torch.allclose(xbow, xbow3)\n"
      ],
      "metadata": {
        "colab": {
          "base_uri": "https://localhost:8080/"
        },
        "id": "wOURrfG-ysoL",
        "outputId": "e794ba63-6026-4a20-8239-f5480f48931e"
      },
      "execution_count": 91,
      "outputs": [
        {
          "output_type": "execute_result",
          "data": {
            "text/plain": [
              "False"
            ]
          },
          "metadata": {},
          "execution_count": 91
        }
      ]
    },
    {
      "cell_type": "code",
      "source": [
        "# version 4: self-attention!\n",
        "torch.manual_seed(1337)\n",
        "B,T,C = 4,8,32 # batch, time, channels\n",
        "x = torch.randn(B,T,C)\n",
        "\n",
        "# let's see a single Head perform self-attention\n",
        "head_size = 16\n",
        "key = nn.Linear(C, head_size, bias=False)\n",
        "query = nn.Linear(C, head_size, bias=False)\n",
        "value = nn.Linear(C, head_size, bias=False)\n",
        "k = key(x)   # (B, T, 16)\n",
        "q = query(x) # (B, T, 16)\n",
        "wei =  q @ k.transpose(-2, -1) # (B, T, 16) @ (B, 16, T) ---> (B, T, T)\n",
        "\n",
        "tril = torch.tril(torch.ones(T, T))\n",
        "#wei = torch.zeros((T,T))\n",
        "wei = wei.masked_fill(tril == 0, float('-inf'))\n",
        "wei = F.softmax(wei, dim=-1)\n",
        "\n",
        "v = value(x)\n",
        "out = wei @ v\n",
        "#out = wei @ x\n",
        "\n",
        "out.shape"
      ],
      "metadata": {
        "colab": {
          "base_uri": "https://localhost:8080/"
        },
        "id": "EDarxEWIRMKq",
        "outputId": "714ed7a3-1af4-4299-d8f9-d54e8dc98f3f"
      },
      "execution_count": 92,
      "outputs": [
        {
          "output_type": "execute_result",
          "data": {
            "text/plain": [
              "torch.Size([4, 8, 16])"
            ]
          },
          "metadata": {},
          "execution_count": 92
        }
      ]
    },
    {
      "cell_type": "code",
      "source": [
        "wei[0]"
      ],
      "metadata": {
        "colab": {
          "base_uri": "https://localhost:8080/"
        },
        "id": "vT1hdtzXCjgL",
        "outputId": "62dcd56a-b79d-4a8d-f04a-60b747eb17c5"
      },
      "execution_count": 93,
      "outputs": [
        {
          "output_type": "execute_result",
          "data": {
            "text/plain": [
              "tensor([[1.0000, 0.0000, 0.0000, 0.0000, 0.0000, 0.0000, 0.0000, 0.0000],\n",
              "        [0.1574, 0.8426, 0.0000, 0.0000, 0.0000, 0.0000, 0.0000, 0.0000],\n",
              "        [0.2088, 0.1646, 0.6266, 0.0000, 0.0000, 0.0000, 0.0000, 0.0000],\n",
              "        [0.5792, 0.1187, 0.1889, 0.1131, 0.0000, 0.0000, 0.0000, 0.0000],\n",
              "        [0.0294, 0.1052, 0.0469, 0.0276, 0.7909, 0.0000, 0.0000, 0.0000],\n",
              "        [0.0176, 0.2689, 0.0215, 0.0089, 0.6812, 0.0019, 0.0000, 0.0000],\n",
              "        [0.1691, 0.4066, 0.0438, 0.0416, 0.1048, 0.2012, 0.0329, 0.0000],\n",
              "        [0.0210, 0.0843, 0.0555, 0.2297, 0.0573, 0.0709, 0.2423, 0.2391]],\n",
              "       grad_fn=<SelectBackward0>)"
            ]
          },
          "metadata": {},
          "execution_count": 93
        }
      ]
    },
    {
      "cell_type": "markdown",
      "source": [
        "Notes:\n",
        "- Attention is a **communication mechanism**. Can be seen as nodes in a directed graph looking at each other and aggregating information with a weighted sum from all nodes that point to them, with data-dependent weights.\n",
        "- There is no notion of space. Attention simply acts over a set of vectors. This is why we need to positionally encode tokens.\n",
        "- Each example across batch dimension is of course processed completely independently and never \"talk\" to each other\n",
        "- In an \"encoder\" attention block just delete the single line that does masking with `tril`, allowing all tokens to communicate. This block here is called a \"decoder\" attention block because it has triangular masking, and is usually used in autoregressive settings, like language modeling.\n",
        "- \"self-attention\" just means that the keys and values are produced from the same source as queries. In \"cross-attention\", the queries still get produced from x, but the keys and values come from some other, external source (e.g. an encoder module)\n",
        "- \"Scaled\" attention additional divides `wei` by 1/sqrt(head_size). This makes it so when input Q,K are unit variance, wei will be unit variance too and Softmax will stay diffuse and not saturate too much. Illustration below"
      ],
      "metadata": {
        "id": "M5CvobiQ0pLr"
      }
    },
    {
      "cell_type": "code",
      "source": [
        "k = torch.randn(B,T,head_size)\n",
        "q = torch.randn(B,T,head_size)\n",
        "wei = q @ k.transpose(-2, -1) * head_size**-0.5"
      ],
      "metadata": {
        "id": "4SNbLq5z3oBw"
      },
      "execution_count": 94,
      "outputs": []
    },
    {
      "cell_type": "code",
      "source": [
        "k.var()"
      ],
      "metadata": {
        "colab": {
          "base_uri": "https://localhost:8080/"
        },
        "id": "Nl6I9n9IRTSo",
        "outputId": "7336a70a-9cda-4667-cead-bc37b106b490"
      },
      "execution_count": 95,
      "outputs": [
        {
          "output_type": "execute_result",
          "data": {
            "text/plain": [
              "tensor(1.0449)"
            ]
          },
          "metadata": {},
          "execution_count": 95
        }
      ]
    },
    {
      "cell_type": "code",
      "source": [
        "q.var()"
      ],
      "metadata": {
        "colab": {
          "base_uri": "https://localhost:8080/"
        },
        "id": "T1tQx7oeRvtc",
        "outputId": "7a40a680-1d11-47d0-acf0-4dd7f33ec0fa"
      },
      "execution_count": 96,
      "outputs": [
        {
          "output_type": "execute_result",
          "data": {
            "text/plain": [
              "tensor(1.0700)"
            ]
          },
          "metadata": {},
          "execution_count": 96
        }
      ]
    },
    {
      "cell_type": "code",
      "source": [
        "wei.var()"
      ],
      "metadata": {
        "colab": {
          "base_uri": "https://localhost:8080/"
        },
        "id": "MLb_odHU3iKM",
        "outputId": "acdc4710-8743-4ae6-b8cb-dfa2b8e57167"
      },
      "execution_count": 97,
      "outputs": [
        {
          "output_type": "execute_result",
          "data": {
            "text/plain": [
              "tensor(1.0918)"
            ]
          },
          "metadata": {},
          "execution_count": 97
        }
      ]
    },
    {
      "cell_type": "code",
      "source": [
        "torch.softmax(torch.tensor([0.1, -0.2, 0.3, -0.2, 0.5]), dim=-1)"
      ],
      "metadata": {
        "colab": {
          "base_uri": "https://localhost:8080/"
        },
        "id": "JB82yzt44REI",
        "outputId": "2fe5aea1-f5db-4889-c6dc-c0fea6e58eb9"
      },
      "execution_count": 98,
      "outputs": [
        {
          "output_type": "execute_result",
          "data": {
            "text/plain": [
              "tensor([0.1925, 0.1426, 0.2351, 0.1426, 0.2872])"
            ]
          },
          "metadata": {},
          "execution_count": 98
        }
      ]
    },
    {
      "cell_type": "code",
      "source": [
        "torch.softmax(torch.tensor([0.1, -0.2, 0.3, -0.2, 0.5])*8, dim=-1) # gets too peaky, converges to one-hot"
      ],
      "metadata": {
        "colab": {
          "base_uri": "https://localhost:8080/"
        },
        "id": "Mpt8569BB9_f",
        "outputId": "5b05d85f-1f49-457e-9fbb-5f5799bddef8"
      },
      "execution_count": 99,
      "outputs": [
        {
          "output_type": "execute_result",
          "data": {
            "text/plain": [
              "tensor([0.0326, 0.0030, 0.1615, 0.0030, 0.8000])"
            ]
          },
          "metadata": {},
          "execution_count": 99
        }
      ]
    },
    {
      "cell_type": "code",
      "source": [
        "class LayerNorm1d: # (used to be BatchNorm1d)\n",
        "\n",
        "  def __init__(self, dim, eps=1e-5, momentum=0.1):\n",
        "    self.eps = eps\n",
        "    self.gamma = torch.ones(dim)\n",
        "    self.beta = torch.zeros(dim)\n",
        "\n",
        "  def __call__(self, x):\n",
        "    # calculate the forward pass\n",
        "    xmean = x.mean(1, keepdim=True) # batch mean\n",
        "    xvar = x.var(1, keepdim=True) # batch variance\n",
        "    xhat = (x - xmean) / torch.sqrt(xvar + self.eps) # normalize to unit variance\n",
        "    self.out = self.gamma * xhat + self.beta\n",
        "    return self.out\n",
        "\n",
        "  def parameters(self):\n",
        "    return [self.gamma, self.beta]\n",
        "\n",
        "torch.manual_seed(1337)\n",
        "module = LayerNorm1d(100)\n",
        "x = torch.randn(32, 100) # batch size 32 of 100-dimensional vectors\n",
        "x = module(x)\n",
        "x.shape"
      ],
      "metadata": {
        "colab": {
          "base_uri": "https://localhost:8080/"
        },
        "id": "2Num7sX9CKOH",
        "outputId": "50f6d4c3-05fb-48d2-df01-c79fc3751598"
      },
      "execution_count": 100,
      "outputs": [
        {
          "output_type": "execute_result",
          "data": {
            "text/plain": [
              "torch.Size([32, 100])"
            ]
          },
          "metadata": {},
          "execution_count": 100
        }
      ]
    },
    {
      "cell_type": "code",
      "source": [
        "x[:,0].mean(), x[:,0].std() # mean,std of one feature across all batch inputs"
      ],
      "metadata": {
        "colab": {
          "base_uri": "https://localhost:8080/"
        },
        "id": "633T2cmnW1uk",
        "outputId": "601665e3-b6c0-4e89-c428-ee1524630632"
      },
      "execution_count": 101,
      "outputs": [
        {
          "output_type": "execute_result",
          "data": {
            "text/plain": [
              "(tensor(0.1469), tensor(0.8803))"
            ]
          },
          "metadata": {},
          "execution_count": 101
        }
      ]
    },
    {
      "cell_type": "code",
      "source": [
        "x[0,:].mean(), x[0,:].std() # mean,std of a single input from the batch, of its features"
      ],
      "metadata": {
        "colab": {
          "base_uri": "https://localhost:8080/"
        },
        "id": "LN9cK9BoXCYb",
        "outputId": "71d69af6-9cc0-40b7-91d1-4ee649f6500c"
      },
      "execution_count": 102,
      "outputs": [
        {
          "output_type": "execute_result",
          "data": {
            "text/plain": [
              "(tensor(-9.5367e-09), tensor(1.0000))"
            ]
          },
          "metadata": {},
          "execution_count": 102
        }
      ]
    },
    {
      "cell_type": "code",
      "source": [
        "# French to English translation example:\n",
        "\n",
        "# <--------- ENCODE ------------------><--------------- DECODE ----------------->\n",
        "# les réseaux de neurones sont géniaux! <START> neural networks are awesome!<END>\n",
        "\n"
      ],
      "metadata": {
        "id": "dRJH6wM_XFfU"
      },
      "execution_count": 103,
      "outputs": []
    },
    {
      "cell_type": "markdown",
      "source": [
        "### Full finished code, for reference\n",
        "\n",
        "You may want to refer directly to the git repo instead though."
      ],
      "metadata": {
        "id": "ZcvKeBXoZFOY"
      }
    },
    {
      "cell_type": "code",
      "source": [
        "import torch\n",
        "import torch.nn as nn\n",
        "from torch.nn import functional as F\n",
        "\n",
        "# hyperparameters\n",
        "batch_size = 16 # how many independent sequences will we process in parallel?\n",
        "block_size = 32 # what is the maximum context length for predictions?\n",
        "max_iters = 5000\n",
        "eval_interval = 100\n",
        "learning_rate = 1e-3\n",
        "device = 'cuda' if torch.cuda.is_available() else 'cpu'\n",
        "eval_iters = 200\n",
        "n_embd = 64\n",
        "n_head = 4\n",
        "n_layer = 4\n",
        "dropout = 0.0\n",
        "# ------------\n",
        "\n",
        "torch.manual_seed(1337)\n",
        "\n",
        "# wget https://raw.githubusercontent.com/karpathy/char-rnn/master/data/tinyshakespeare/input.txt\n",
        "with open('input2.txt', 'r', encoding='utf-8') as f:\n",
        "    text = f.read()\n",
        "\n",
        "# here are all the unique characters that occur in this text\n",
        "chars = sorted(list(set(text)))\n",
        "vocab_size = len(chars)\n",
        "# create a mapping from characters to integers\n",
        "stoi = { ch:i for i,ch in enumerate(chars) }\n",
        "itos = { i:ch for i,ch in enumerate(chars) }\n",
        "encode = lambda s: [stoi[c] for c in s] # encoder: take a string, output a list of integers\n",
        "decode = lambda l: ''.join([itos[i] for i in l]) # decoder: take a list of integers, output a string\n",
        "\n",
        "# Train and test splits\n",
        "data = torch.tensor(encode(text), dtype=torch.long)\n",
        "n = int(0.9*len(data)) # first 90% will be train, rest val\n",
        "train_data = data[:n]\n",
        "val_data = data[n:]\n",
        "\n",
        "# data loading\n",
        "def get_batch(split):\n",
        "    # generate a small batch of data of inputs x and targets y\n",
        "    data = train_data if split == 'train' else val_data\n",
        "    ix = torch.randint(len(data) - block_size, (batch_size,))\n",
        "    x = torch.stack([data[i:i+block_size] for i in ix])\n",
        "    y = torch.stack([data[i+1:i+block_size+1] for i in ix])\n",
        "    x, y = x.to(device), y.to(device)\n",
        "    return x, y\n",
        "\n",
        "@torch.no_grad()\n",
        "def estimate_loss():\n",
        "    out = {}\n",
        "    model.eval()\n",
        "    for split in ['train', 'val']:\n",
        "        losses = torch.zeros(eval_iters)\n",
        "        for k in range(eval_iters):\n",
        "            X, Y = get_batch(split)\n",
        "            logits, loss = model(X, Y)\n",
        "            losses[k] = loss.item()\n",
        "        out[split] = losses.mean()\n",
        "    model.train()\n",
        "    return out\n",
        "\n",
        "class Head(nn.Module):\n",
        "    \"\"\" one head of self-attention \"\"\"\n",
        "\n",
        "    def __init__(self, head_size):\n",
        "        super().__init__()\n",
        "        self.key = nn.Linear(n_embd, head_size, bias=False)\n",
        "        self.query = nn.Linear(n_embd, head_size, bias=False)\n",
        "        self.value = nn.Linear(n_embd, head_size, bias=False)\n",
        "        self.register_buffer('tril', torch.tril(torch.ones(block_size, block_size)))\n",
        "\n",
        "        self.dropout = nn.Dropout(dropout)\n",
        "\n",
        "    def forward(self, x):\n",
        "        B,T,C = x.shape\n",
        "        k = self.key(x)   # (B,T,C)\n",
        "        q = self.query(x) # (B,T,C)\n",
        "        # compute attention scores (\"affinities\")\n",
        "        wei = q @ k.transpose(-2,-1) * C**-0.5 # (B, T, C) @ (B, C, T) -> (B, T, T)\n",
        "        wei = wei.masked_fill(self.tril[:T, :T] == 0, float('-inf')) # (B, T, T)\n",
        "        wei = F.softmax(wei, dim=-1) # (B, T, T)\n",
        "        wei = self.dropout(wei)\n",
        "        # perform the weighted aggregation of the values\n",
        "        v = self.value(x) # (B,T,C)\n",
        "        out = wei @ v # (B, T, T) @ (B, T, C) -> (B, T, C)\n",
        "        return out\n",
        "\n",
        "class MultiHeadAttention(nn.Module):\n",
        "    \"\"\" multiple heads of self-attention in parallel \"\"\"\n",
        "\n",
        "    def __init__(self, num_heads, head_size):\n",
        "        super().__init__()\n",
        "        self.heads = nn.ModuleList([Head(head_size) for _ in range(num_heads)])\n",
        "        self.proj = nn.Linear(n_embd, n_embd)\n",
        "        self.dropout = nn.Dropout(dropout)\n",
        "\n",
        "    def forward(self, x):\n",
        "        out = torch.cat([h(x) for h in self.heads], dim=-1)\n",
        "        out = self.dropout(self.proj(out))\n",
        "        return out\n",
        "\n",
        "class FeedFoward(nn.Module):\n",
        "    \"\"\" a simple linear layer followed by a non-linearity \"\"\"\n",
        "\n",
        "    def __init__(self, n_embd):\n",
        "        super().__init__()\n",
        "        self.net = nn.Sequential(\n",
        "            nn.Linear(n_embd, 4 * n_embd),\n",
        "            nn.ReLU(),\n",
        "            nn.Linear(4 * n_embd, n_embd),\n",
        "            nn.Dropout(dropout),\n",
        "        )\n",
        "\n",
        "    def forward(self, x):\n",
        "        return self.net(x)\n",
        "\n",
        "class Block(nn.Module):\n",
        "    \"\"\" Transformer block: communication followed by computation \"\"\"\n",
        "\n",
        "    def __init__(self, n_embd, n_head):\n",
        "        # n_embd: embedding dimension, n_head: the number of heads we'd like\n",
        "        super().__init__()\n",
        "        head_size = n_embd // n_head\n",
        "        self.sa = MultiHeadAttention(n_head, head_size)\n",
        "        self.ffwd = FeedFoward(n_embd)\n",
        "        self.ln1 = nn.LayerNorm(n_embd)\n",
        "        self.ln2 = nn.LayerNorm(n_embd)\n",
        "\n",
        "    def forward(self, x):\n",
        "        x = x + self.sa(self.ln1(x))\n",
        "        x = x + self.ffwd(self.ln2(x))\n",
        "        return x\n",
        "\n",
        "# super simple bigram model\n",
        "class BigramLanguageModel(nn.Module):\n",
        "\n",
        "    def __init__(self):\n",
        "        super().__init__()\n",
        "        # each token directly reads off the logits for the next token from a lookup table\n",
        "        self.token_embedding_table = nn.Embedding(vocab_size, n_embd)\n",
        "        self.position_embedding_table = nn.Embedding(block_size, n_embd)\n",
        "        self.blocks = nn.Sequential(*[Block(n_embd, n_head=n_head) for _ in range(n_layer)])\n",
        "        self.ln_f = nn.LayerNorm(n_embd) # final layer norm\n",
        "        self.lm_head = nn.Linear(n_embd, vocab_size)\n",
        "\n",
        "    def forward(self, idx, targets=None):\n",
        "        B, T = idx.shape\n",
        "\n",
        "        # idx and targets are both (B,T) tensor of integers\n",
        "        tok_emb = self.token_embedding_table(idx) # (B,T,C)\n",
        "        pos_emb = self.position_embedding_table(torch.arange(T, device=device)) # (T,C)\n",
        "        x = tok_emb + pos_emb # (B,T,C)\n",
        "        x = self.blocks(x) # (B,T,C)\n",
        "        x = self.ln_f(x) # (B,T,C)\n",
        "        logits = self.lm_head(x) # (B,T,vocab_size)\n",
        "\n",
        "        if targets is None:\n",
        "            loss = None\n",
        "        else:\n",
        "            B, T, C = logits.shape\n",
        "            logits = logits.view(B*T, C)\n",
        "            targets = targets.view(B*T)\n",
        "            loss = F.cross_entropy(logits, targets)\n",
        "\n",
        "        return logits, loss\n",
        "\n",
        "    def generate(self, idx, max_new_tokens):\n",
        "        # idx is (B, T) array of indices in the current context\n",
        "        for _ in range(max_new_tokens):\n",
        "            # crop idx to the last block_size tokens\n",
        "            idx_cond = idx[:, -block_size:]\n",
        "            # get the predictions\n",
        "            logits, loss = self(idx_cond)\n",
        "            # focus only on the last time step\n",
        "            logits = logits[:, -1, :] # becomes (B, C)\n",
        "            # apply softmax to get probabilities\n",
        "            probs = F.softmax(logits, dim=-1) # (B, C)\n",
        "            # sample from the distribution\n",
        "            idx_next = torch.multinomial(probs, num_samples=1) # (B, 1)\n",
        "            # append sampled index to the running sequence\n",
        "            idx = torch.cat((idx, idx_next), dim=1) # (B, T+1)\n",
        "        return idx\n",
        "\n",
        "model = BigramLanguageModel()\n",
        "m = model.to(device)\n",
        "# print the number of parameters in the model\n",
        "print(sum(p.numel() for p in m.parameters())/1e6, 'M parameters')\n",
        "\n",
        "# create a PyTorch optimizer\n",
        "optimizer = torch.optim.AdamW(model.parameters(), lr=learning_rate)\n",
        "\n",
        "for iter in range(max_iters):\n",
        "\n",
        "    # every once in a while evaluate the loss on train and val sets\n",
        "    if iter % eval_interval == 0 or iter == max_iters - 1:\n",
        "        losses = estimate_loss()\n",
        "        print(f\"step {iter}: train loss {losses['train']:.4f}, val loss {losses['val']:.4f}\")\n",
        "\n",
        "    # sample a batch of data\n",
        "    xb, yb = get_batch('train')\n",
        "\n",
        "    # evaluate the loss\n",
        "    logits, loss = model(xb, yb)\n",
        "    optimizer.zero_grad(set_to_none=True)\n",
        "    loss.backward()\n",
        "    optimizer.step()\n",
        "\n",
        "# generate from the model\n",
        "context = torch.zeros((1, 1), dtype=torch.long, device=device)\n",
        "print(decode(m.generate(context, max_new_tokens=2000)[0].tolist()))\n"
      ],
      "metadata": {
        "colab": {
          "base_uri": "https://localhost:8080/"
        },
        "id": "hoelkOrFY8bN",
        "outputId": "83c253da-6cbd-44a2-a889-922842c9656c"
      },
      "execution_count": 104,
      "outputs": [
        {
          "output_type": "stream",
          "name": "stdout",
          "text": [
            "0.208826 M parameters\n",
            "step 0: train loss 4.2265, val loss 4.1907\n",
            "step 100: train loss 2.4980, val loss 2.6788\n",
            "step 200: train loss 2.1974, val loss 2.6313\n",
            "step 300: train loss 1.8195, val loss 2.7485\n",
            "step 400: train loss 1.3282, val loss 2.9999\n",
            "step 500: train loss 0.8559, val loss 3.3887\n",
            "step 600: train loss 0.5579, val loss 3.8315\n",
            "step 700: train loss 0.3902, val loss 4.3130\n",
            "step 800: train loss 0.3245, val loss 4.4070\n",
            "step 900: train loss 0.2831, val loss 4.6185\n",
            "step 1000: train loss 0.2619, val loss 4.8693\n",
            "step 1100: train loss 0.2444, val loss 4.9828\n",
            "step 1200: train loss 0.2325, val loss 5.0467\n",
            "step 1300: train loss 0.2219, val loss 5.2298\n",
            "step 1400: train loss 0.2195, val loss 5.3245\n",
            "step 1500: train loss 0.2163, val loss 5.3151\n",
            "step 1600: train loss 0.2104, val loss 5.3887\n",
            "step 1700: train loss 0.1987, val loss 5.5017\n",
            "step 1800: train loss 0.1977, val loss 5.6139\n",
            "step 1900: train loss 0.1985, val loss 5.5918\n",
            "step 2000: train loss 0.1903, val loss 5.5687\n",
            "step 2100: train loss 0.1983, val loss 5.4883\n",
            "step 2200: train loss 0.1938, val loss 5.6212\n",
            "step 2300: train loss 0.1947, val loss 5.7068\n",
            "step 2400: train loss 0.1898, val loss 5.6485\n",
            "step 2500: train loss 0.1842, val loss 5.6750\n",
            "step 2600: train loss 0.1829, val loss 5.7464\n",
            "step 2700: train loss 0.1760, val loss 5.6916\n",
            "step 2800: train loss 0.1837, val loss 5.7238\n",
            "step 2900: train loss 0.1821, val loss 5.8430\n",
            "step 3000: train loss 0.1834, val loss 5.8695\n",
            "step 3100: train loss 0.1814, val loss 6.0043\n",
            "step 3200: train loss 0.1846, val loss 6.0034\n",
            "step 3300: train loss 0.1813, val loss 5.9179\n",
            "step 3400: train loss 0.1777, val loss 5.8854\n",
            "step 3500: train loss 0.1816, val loss 5.9486\n",
            "step 3600: train loss 0.1779, val loss 5.8135\n",
            "step 3700: train loss 0.1763, val loss 5.9964\n",
            "step 3800: train loss 0.1789, val loss 5.8805\n",
            "step 3900: train loss 0.1788, val loss 6.2226\n",
            "step 4000: train loss 0.1764, val loss 6.1335\n",
            "step 4100: train loss 0.1751, val loss 6.0322\n",
            "step 4200: train loss 0.1726, val loss 5.9806\n",
            "step 4300: train loss 0.1723, val loss 5.9325\n",
            "step 4400: train loss 0.1702, val loss 6.1053\n",
            "step 4500: train loss 0.1730, val loss 5.8232\n",
            "step 4600: train loss 0.1740, val loss 6.0078\n",
            "step 4700: train loss 0.1731, val loss 6.1829\n",
            "step 4800: train loss 0.1678, val loss 6.1347\n",
            "step 4900: train loss 0.1751, val loss 6.1685\n",
            "step 4999: train loss 0.1676, val loss 6.2454\n",
            "\n",
            "gmentechning (MRI) is a crucial tool. However, detecting brain tumors manually is a difficult and timime-con asught minketho fficherently glean useful insights from a wide variety of data. In addition, a Bi-directional Feature Pyramid Network (BiFPN) is used to speed up multi-scale feature fusion and to better collect features associated with tumors. The outcomes verify the efficiency of of our suggested method, which achieves a higher over of the MRI scans is enhanced by the use of image enhancement methods that apply different filters to the original pictures. To further improve the model’s sensitivity, we have added a Spatial Pyramid Pooulteater Pyramid NidiFPoal F+om (CBi) ayetention Yiquevont modetwork igmes a wide variety of cases, such as 2548 images of gliomas, 2658 images of pituitary, 2582 images of meningioma, and 2500 images of non-tumors. We included the Convolutional Block Attention Module (Moma wigmes of nordetection of brain tumors system. The visual representation of the MRI) iscanroce iand to better collect features associated with tumors. We included the Convolutional Block Attention Module (Cochen itumo work’s core it glean useful insights from a wide variety of data. In addition, a Bi-directional Feature Pyramid Network (BiFPN) is used to speed up multi-scale feature fusion and to better collect features associated with tumors. The outcomes verify the efficiency of our suggested method, which achieves a higher over acherixtrumode outection of meningioma, glioma, and pituitary gland tumors within an improved detection of brain tumors system. The visual representation of the MRI The cutcomes verify the efficiency of our suggested method, which achieves a higher of image enhancement methods that apply different filters to the original pictures. To further improve the model’s sensitivity, we have added a Spatial Pyramid Poouel However, detecting brain tumors manually is a difficult and timime-consuming activity that might lead to inaccuracies. In or\n"
          ]
        }
      ]
    },
    {
      "cell_type": "code",
      "source": [],
      "metadata": {
        "id": "fjjvMifYZf7x"
      },
      "execution_count": 104,
      "outputs": []
    },
    {
      "cell_type": "markdown",
      "source": [
        "Output 1: gmentechning (MRI) is a crucial tool. However, detecting brain tumors manually is a difficult and timime-con asught minketho fficherently glean useful insights from a wide variety of data. In addition, a Bi-directional Feature Pyramid Network (BiFPN) is used to speed up multi-scale feature fusion and to better collect features associated with tumors. The outcomes verify the efficiency of of our suggested method, which achieves a higher over of the MRI scans is enhanced by the use of image enhancement methods that apply different filters to the original pictures. To further improve the model’s sensitivity, we have added a Spatial Pyramid Pooulteater Pyramid NidiFPoal F+om (CBi) ayetention Yiquevont modetwork igmes a wide variety of cases, such as 2548 images of gliomas, 2658 images of pituitary, 2582 images of meningioma, and 2500 images of non-tumors. We included the Convolutional Block Attention Module (Moma wigmes of nordetection of brain tumors system. The visual representation of the MRI) iscanroce iand to better collect features associated with tumors. We included the Convolutional Block Attention Module (Cochen itumo work’s core it glean useful insights from a wide variety of data. In addition, a Bi-directional Feature Pyramid Network (BiFPN) is used to speed up multi-scale feature fusion and to better collect features associated with tumors. The outcomes verify the efficiency of our suggested method, which achieves a higher over acherixtrumode outection of meningioma, glioma, and pituitary gland tumors within an improved detection of brain tumors system. The visual representation of the MRI The cutcomes verify the efficiency of our suggested method, which achieves a higher of image enhancement methods that apply different filters to the original pictures. To further improve the model’s sensitivity, we have added a Spatial Pyramid Poouel However, detecting brain tumors manually is a difficult and timime-consuming activity that might lead to inaccuracies. In or\n"
      ],
      "metadata": {
        "id": "XvtZ08ZrNfwn"
      }
    },
    {
      "cell_type": "markdown",
      "source": [
        "Output 2: gmentechning (MRI) is a crucial tool. However, detecting brain tumors manually is a difficult and timime-con asught minketho fficherently glean useful insights from a wide variety of data. In addition, a Bi-directional Feature Pyramid Network (BiFPN) is used to speed up multi-scale feature fusion and to better collect features associated with tumors. The outcomes verify the efficiency of of our suggested method, which achieves a higher over of the MRI scans is enhanced by the use of image enhancement methods that apply different filters to the original pictures. To further improve the model’s sensitivity, we have added a Spatial Pyramid Pooulteater Pyramid NidiFPoal F+om (CBi) ayetention Yiquevont modetwork igmes a wide variety of cases, such as 2548 images of gliomas, 2658 images of pituitary, 2582 images of meningioma, and 2500 images of non-tumors. We included the Convolutional Block Attention Module (Moma wigmes of nordetection of brain tumors system. The visual representation of the MRI) iscanroce iand to better collect features associated with tumors. We included the Convolutional Block Attention Module (Cochen itumo work’s core it glean useful insights from a wide variety of data. In addition, a Bi-directional Feature Pyramid Network (BiFPN) is used to speed up multi-scale feature fusion and to better collect features associated with tumors. The outcomes verify the efficiency of our suggested method, which achieves a higher over acherixtrumode outection of meningioma, glioma, and pituitary gland tumors within an improved detection of brain tumors system. The visual representation of the MRI The cutcomes verify the efficiency of our suggested method, which achieves a higher of image enhancement methods that apply different filters to the original pictures. To further improve the model’s sensitivity, we have added a Spatial Pyramid Poouel However, detecting brain tumors manually is a difficult and timime-consuming activity that might lead to inaccuracies. In or\n"
      ],
      "metadata": {
        "id": "B9kuTHROPTsm"
      }
    }
  ]
}